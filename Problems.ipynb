{
  "nbformat": 4,
  "nbformat_minor": 0,
  "metadata": {
    "colab": {
      "provenance": [],
      "authorship_tag": "ABX9TyMDm3GiC5EHbs9CzrwxupEi",
      "include_colab_link": true
    },
    "kernelspec": {
      "name": "python3",
      "display_name": "Python 3"
    },
    "language_info": {
      "name": "python"
    }
  },
  "cells": [
    {
      "cell_type": "markdown",
      "metadata": {
        "id": "view-in-github",
        "colab_type": "text"
      },
      "source": [
        "<a href=\"https://colab.research.google.com/github/nithingovindugari/IntrotoQC/blob/main/Problems.ipynb\" target=\"_parent\"><img src=\"https://colab.research.google.com/assets/colab-badge.svg\" alt=\"Open In Colab\"/></a>"
      ]
    },
    {
      "cell_type": "code",
      "execution_count": null,
      "metadata": {
        "id": "ElDlh8l8ymW9",
        "colab": {
          "base_uri": "https://localhost:8080/"
        },
        "outputId": "20b56927-274b-4d71-f804-8dc025ef283d"
      },
      "outputs": [
        {
          "output_type": "stream",
          "name": "stdout",
          "text": [
            "2.732050807568877\n",
            "(2, 1)\n",
            "0j\n",
            "-3j\n",
            "[[2]\n",
            " [1]]\n",
            "[[0.89442719]\n",
            " [0.4472136 ]]\n",
            "[[2.+0.j]\n",
            " [1.+1.j]]\n",
            "[[0.81649658+0.j        ]\n",
            " [0.40824829+0.40824829j]]\n",
            "[[2.12132034]\n",
            " [0.70710678]]\n",
            "[[0.9486833 ]\n",
            " [0.31622777]]\n",
            "[[1]\n",
            " [2]]\n",
            "[[0.4472136 ]\n",
            " [0.89442719]]\n"
          ]
        }
      ],
      "source": [
        "import numpy as np\n",
        "import math\n",
        "import random\n",
        "import matplotlib.pyplot as plt\n",
        "from sklearn.preprocessing import normalize\n",
        "\n",
        "# #problem3\n",
        "v1 = np.array([[np.sqrt(3)],[1]])\n",
        "v2 = np.array([[1],[1]])\n",
        "inner_result = np.vdot(v1,v2)\n",
        "print(inner_result)\n",
        "print(v1.shape)\n",
        "\n",
        "v3 = np.array([[1j],[1]])\n",
        "v4 = np.array([[-1j],[1]])\n",
        "inner_result1 = np.vdot(v3,v4)\n",
        "print(inner_result1)\n",
        "\n",
        "v5 = np.array([[1+2j],[1]])\n",
        "v6 = np.array([[1-1j],[1]])\n",
        "inner_result2 = np.vdot(v5,v6)\n",
        "print(inner_result2)\n",
        "\n",
        "#Problem 4\n",
        "v1 = np.array([[2],[1]])     \n",
        "print(v1)\n",
        "v2 = v1/np.linalg.norm(v1) \n",
        "print(v2)\n",
        "\n",
        "v3 = np.array([[2],[1+1j]])     \n",
        "print(v3)\n",
        "v4 = v3/np.linalg.norm(v3) \n",
        "print(v4)\n",
        "\n",
        "\n",
        "#Problem 5.2\n",
        "v1 = np.array([[3/np.sqrt(2)],[1/np.sqrt(2)]])     \n",
        "print(v1)\n",
        "v2 = v1/np.linalg.norm(v1) \n",
        "print(v2)\n",
        "\n",
        "# Problem 5.4\n",
        "v3 = np.array([[1] , [(2 )]])     \n",
        "print(v3)\n",
        "v4 = v3/np.linalg.norm(v3) \n",
        "print(v4)"
      ]
    },
    {
      "cell_type": "code",
      "source": [
        "#Lecture_6-Problems\n",
        "sigmay = np.array([[0, -1j],[1j,0]])\n",
        "print(sigmay)\n",
        "eigenvalues,eigenvectors = np.linalg.eig(sigmay)\n",
        "print(eigenvalues)\n",
        "print(eigenvectors)\n"
      ],
      "metadata": {
        "id": "f3iS0omOz3Y7",
        "colab": {
          "base_uri": "https://localhost:8080/"
        },
        "outputId": "d1c61a06-4811-46ea-ec77-8e2d8ab5d356"
      },
      "execution_count": null,
      "outputs": [
        {
          "output_type": "stream",
          "name": "stdout",
          "text": [
            "[[ 0.+0.j -0.-1.j]\n",
            " [ 0.+1.j  0.+0.j]]\n",
            "[ 1.+0.j -1.+0.j]\n",
            "[[-0.        -0.70710678j  0.70710678+0.j        ]\n",
            " [ 0.70710678+0.j          0.        -0.70710678j]]\n"
          ]
        }
      ]
    },
    {
      "cell_type": "code",
      "source": [
        "#Lecture_7-Problems\n",
        "#7.1\n",
        "sigmay=np.array([[0,-1j],[1j,0]])\n",
        "print(sigmay)\n",
        "print(np.matmul(sigmay, sigmay))\n",
        "\n",
        "#7.2\n",
        "sigmaz=np.array([[1,0],[0,-1]])\n",
        "print(sigmaz)\n",
        "print(np.matmul(sigmaz, sigmaz))\n",
        "\n",
        "#7.3\n",
        "\n",
        "sigmayh = np.conjugate(np.transpose(sigmay))\n",
        "print(sigmayh)\n",
        "\n",
        "#7.4\n",
        "zerospin=np.array([[1],[0]])\n",
        "print(zerospin.shape)\n",
        "print(np.dot(sigmay,zerospin))"
      ],
      "metadata": {
        "id": "ThP4E2LluAKH",
        "colab": {
          "base_uri": "https://localhost:8080/"
        },
        "outputId": "47099348-ff8a-4597-90e1-1c51bbbe9e2d"
      },
      "execution_count": null,
      "outputs": [
        {
          "output_type": "stream",
          "name": "stdout",
          "text": [
            "[[ 0.+0.j -0.-1.j]\n",
            " [ 0.+1.j  0.+0.j]]\n",
            "[[1.+0.j 0.+0.j]\n",
            " [0.+0.j 1.+0.j]]\n",
            "[[ 1  0]\n",
            " [ 0 -1]]\n",
            "[[1 0]\n",
            " [0 1]]\n",
            "[[ 0.-0.j  0.-1.j]\n",
            " [-0.+1.j  0.-0.j]]\n",
            "(2, 1)\n",
            "[[0.+0.j]\n",
            " [0.+1.j]]\n"
          ]
        }
      ]
    },
    {
      "cell_type": "code",
      "source": [],
      "metadata": {
        "id": "mLhEQAbB5ne6"
      },
      "execution_count": null,
      "outputs": []
    },
    {
      "cell_type": "code",
      "source": [
        "#Lecture_8-Problems\n",
        "\n",
        "import numpy as np\n",
        "sigmax=np.array([[0,1],[1,0]])\n",
        "print(sigmax)\n",
        "eigenvalues, eigenvectors=np.linalg.eig(sigmax)\n",
        "print(eigenvalues)\n",
        "print(eigenvectors)\n",
        "\n",
        "#8.4\n",
        "sigmaxp=np.array([1/np.sqrt(2),1/np.sqrt(2)])\n",
        "sigmaxn=np.array([1/np.sqrt(2),-1/np.sqrt(2)])\n",
        "eigenvalues, eigenvectors=np.linalg.eig(sigmax)\n",
        "print(eigenvalues)\n",
        "print(eigenvectors)\n",
        "print(np.dot(sigmaxp,sigmaxp))\n",
        "print(np.dot(sigmaxn,sigmaxn))\n",
        "\n",
        "\n",
        "\n"
      ],
      "metadata": {
        "colab": {
          "base_uri": "https://localhost:8080/"
        },
        "id": "17QGbeH7hpe2",
        "outputId": "d3b33c67-784e-4ef8-f662-f757c4a201f3"
      },
      "execution_count": null,
      "outputs": [
        {
          "output_type": "stream",
          "name": "stdout",
          "text": [
            "[[0 1]\n",
            " [1 0]]\n",
            "[ 1. -1.]\n",
            "[[ 0.70710678 -0.70710678]\n",
            " [ 0.70710678  0.70710678]]\n",
            "[ 1. -1.]\n",
            "[[ 0.70710678 -0.70710678]\n",
            " [ 0.70710678  0.70710678]]\n",
            "0.9999999999999998\n",
            "0.9999999999999998\n"
          ]
        }
      ]
    },
    {
      "cell_type": "code",
      "source": [
        "#Lecture_9-Problems\n",
        "#9.3\n",
        "# M=np.array([[1,0],[0,-1]])\n",
        "sigmax=np.array([[0,1],[1,0]])\n",
        "sigmay=np.array([[0,-1j],[1j,0]])\n",
        "sigmaz=np.array([[1,0],[0,-1]])\n",
        "\n",
        "\n",
        "\n",
        "print(np.linalg.det(sigmax))\n",
        "print(np.linalg.det(sigmay))\n",
        "print(np.linalg.det(sigmaz))\n",
        "\n"
      ],
      "metadata": {
        "colab": {
          "base_uri": "https://localhost:8080/"
        },
        "id": "Hu0tetGHjoo9",
        "outputId": "2e502f02-602a-4007-bca6-7ca860250a50"
      },
      "execution_count": null,
      "outputs": [
        {
          "output_type": "stream",
          "name": "stdout",
          "text": [
            "-1.0\n",
            "(-1+0j)\n",
            "-1.0\n"
          ]
        }
      ]
    },
    {
      "cell_type": "code",
      "source": [
        "#Lecture_10-Problems\n",
        "\n",
        "#10.4\n",
        "\n",
        "import numpy as np\n",
        "sigmaxn=np.array([1/np.sqrt(2),-1])\n",
        "sigmaxp=np.array([1/np.sqrt(2),1])\n",
        "sigmayp=np.array([1/np.sqrt(2),+1j])\n",
        "sigmayn=np.array([1/np.sqrt(2),-1j])\n",
        "\n",
        "print(np.matmul(sigmaxn, sigmayn))\n",
        "print(np.matmul(sigmaxn, sigmayp))\n",
        "print(np.matmul(sigmaxp, sigmayn))\n",
        "print(np.matmul(sigmaxp, sigmayp))\n"
      ],
      "metadata": {
        "colab": {
          "base_uri": "https://localhost:8080/"
        },
        "id": "kBnweUTpBiZp",
        "outputId": "3015b455-2417-4a20-fedc-56be14e77f10"
      },
      "execution_count": null,
      "outputs": [
        {
          "output_type": "stream",
          "name": "stdout",
          "text": [
            "(0.4999999999999999+1j)\n",
            "(0.4999999999999999-1j)\n",
            "(0.4999999999999999-1j)\n",
            "(0.4999999999999999+1j)\n"
          ]
        }
      ]
    },
    {
      "cell_type": "code",
      "source": [
        "#Lecture_11-Problems\n",
        "\n",
        "#11.4\n",
        "#proving 11.1\n",
        "import numpy as np\n",
        "g=np.array([[0],[1]])\n",
        "h=np.array([[1/np.sqrt(2)],[1j/np.sqrt(2)]])\n",
        "print(np.kron(g,h))\n",
        "print(np.kron(h,g))\n",
        "\n",
        "# proving 11.2\n",
        "x = np.kron(h,g)\n",
        "print(np.kron(g,x))\n",
        "\n",
        "#proving 11.3\n",
        "y=np.array([[1],[0]])\n",
        "z = (g + y)\n",
        "print(np.kron(z,h))\n",
        "a = np.kron(z,h)\n",
        "\n",
        "\n",
        "l = np.kron(g,h)\n",
        "m = np.kron(y,h)\n",
        "b = l+m\n",
        "print(l+m)\n",
        "\n",
        "if  a.all() == b.all() :\n",
        "  print(\" L.H.S == R.H.S\")\n"
      ],
      "metadata": {
        "colab": {
          "base_uri": "https://localhost:8080/"
        },
        "id": "RmW484zzk5ux",
        "outputId": "78ab2ca7-9315-4943-f6c1-dbb8da9a770e"
      },
      "execution_count": null,
      "outputs": [
        {
          "output_type": "stream",
          "name": "stdout",
          "text": [
            "[[0.        +0.j        ]\n",
            " [0.        +0.j        ]\n",
            " [0.70710678+0.j        ]\n",
            " [0.        +0.70710678j]]\n",
            "[[0.        +0.j        ]\n",
            " [0.70710678+0.j        ]\n",
            " [0.        +0.j        ]\n",
            " [0.        +0.70710678j]]\n",
            "[[0.        +0.j        ]\n",
            " [0.        +0.j        ]\n",
            " [0.        +0.j        ]\n",
            " [0.        +0.j        ]\n",
            " [0.        +0.j        ]\n",
            " [0.70710678+0.j        ]\n",
            " [0.        +0.j        ]\n",
            " [0.        +0.70710678j]]\n",
            "[[0.70710678+0.j        ]\n",
            " [0.        +0.70710678j]\n",
            " [0.70710678+0.j        ]\n",
            " [0.        +0.70710678j]]\n",
            "[[0.70710678+0.j        ]\n",
            " [0.        +0.70710678j]\n",
            " [0.70710678+0.j        ]\n",
            " [0.        +0.70710678j]]\n",
            " L.H.S == R.H.S\n"
          ]
        }
      ]
    },
    {
      "cell_type": "code",
      "source": [
        "#Lecture_12-Problems\n",
        "\n",
        "import numpy as np\n",
        "g=np.array([[1],[0]])\n",
        "h=np.array([[1j/np.sqrt(2)],[1/np.sqrt(2)]])\n",
        "print(np.kron(g,h))\n",
        "print(np.kron(h,g))\n",
        "\n"
      ],
      "metadata": {
        "colab": {
          "base_uri": "https://localhost:8080/"
        },
        "id": "ZGZVGzUcgkdO",
        "outputId": "d783c6b7-caad-44f1-d2b4-f75c1e5bd00f"
      },
      "execution_count": null,
      "outputs": [
        {
          "output_type": "stream",
          "name": "stdout",
          "text": [
            "[[0.        +0.70710678j]\n",
            " [0.70710678+0.j        ]\n",
            " [0.        +0.j        ]\n",
            " [0.        +0.j        ]]\n",
            "[[0.        +0.70710678j]\n",
            " [0.        +0.j        ]\n",
            " [0.70710678+0.j        ]\n",
            " [0.        +0.j        ]]\n"
          ]
        }
      ]
    },
    {
      "cell_type": "code",
      "source": [
        "\n",
        "#Chapter 15\n",
        "\n",
        "#15.1\n",
        "sigmay=np.array([[0,1],[1,0]])   #Not gate and transpose is same for this matrix\n",
        "print(sigmay)\n",
        "print(np.matmul(sigmay, sigmay))\n",
        "\n",
        "#15.2\n",
        "sigmac=np.array([[1,0,0,0],[0,1,0,0],[0,0,0,1],[0,0,1,0]])   #CNot gate and transpose is same for this matrix\n",
        "print(sigmac)\n",
        "print(np.matmul(sigmac, sigmac))"
      ],
      "metadata": {
        "colab": {
          "base_uri": "https://localhost:8080/"
        },
        "id": "Gr_Yji8bEtvt",
        "outputId": "ecdca83a-b803-4827-9f07-0f33d3d33452"
      },
      "execution_count": null,
      "outputs": [
        {
          "output_type": "stream",
          "name": "stdout",
          "text": [
            "[[0 1]\n",
            " [1 0]]\n",
            "[[1 0]\n",
            " [0 1]]\n",
            "[[1 0 0 0]\n",
            " [0 1 0 0]\n",
            " [0 0 0 1]\n",
            " [0 0 1 0]]\n",
            "[[1 0 0 0]\n",
            " [0 1 0 0]\n",
            " [0 0 1 0]\n",
            " [0 0 0 1]]\n"
          ]
        }
      ]
    },
    {
      "cell_type": "code",
      "source": [
        "\n",
        "#24.5\n",
        "#Keywords\n",
        "#superposition is sup_pos\n",
        "#amplitude  is amp\n",
        "\n",
        "#Grovers Algorithm is implemented using standard procedure.\n",
        "#Steps followed in books are implemented and tried to create classical grovers algorithm in different style\n",
        "\n",
        "plots = []\n",
        "\n",
        "# Putting all qubits in superposition using hadamard gate\n",
        "def  sup_pos(qubits):\n",
        "    states = []\n",
        "    total_states = int(math.pow(2,qubits))\n",
        "    amp = 1/math.sqrt(total_states)  \n",
        "    for _ in range(0,total_states):\n",
        "        states.append(amp)\n",
        "    return states\n",
        "\n",
        "# phase flip inverts the states amplitude\n",
        "def grover_diffusion(states):\n",
        "    average = sum(states)/len(states)\n",
        "    for i in range(0,len(states)):\n",
        "        states[i] = (average-states[i]) + average         #inversion about mean\n",
        "    return states\n",
        "\n",
        "#oracle to implement phase inversion\n",
        "def oracle(states,datalist,key):\n",
        "    for i in range(0,int(len(datalist))):\n",
        "        if datalist[i] == key:\n",
        "            states[i] *= -1                    #phase inversion\n",
        "    return states\n",
        "\n",
        "\n",
        "\n",
        "#classical main grover search function \n",
        "def grover_search(qubits,datalist,key):\n",
        "    states = sup_pos(qubits)\n",
        "    num_iterations  = math.ceil(math.sqrt(math.pow(2,qubits)))        #iterations\n",
        "    probability_states = []\n",
        "    for _ in range(0,num_iterations):\n",
        "        states = oracle(states,datalist,key)\n",
        "        states = grover_diffusion(states)\n",
        "        probability_states = [states[i]*states[i] for i in range(0,len(states))]\n",
        "        plots.append(probability_states)\n",
        "    return probability_states\n",
        "\n",
        "\n",
        "def grover(datalist,key):\n",
        "    size_datalist = len(datalist)\n",
        "    qubits_needed = math.ceil(math.log(size_datalist,2))\n",
        "    paddings_required = int(math.pow(2,qubits_needed) - size_datalist)\n",
        "    #required if the number of data items is not a power of 2.\n",
        "    for _ in range(0,paddings_required):\n",
        "         datalist.append(0)\n",
        "    grover_search(qubits_needed,datalist,key)\n",
        "    \n",
        "datalist = random.sample(range(1, 100), 64)\n",
        "grover(datalist,32)\n",
        "print(datalist)\n",
        "print(\"plots showing the change in probabilities of items after every grover's iteration :\")\n",
        "result ={}\n",
        "iteration = 1\n",
        "for plot in plots:\n",
        "    for i in range(len(plot)):\n",
        "        result[datalist[i]] = plot[i]\n",
        "    print(\"----------------------------------------------------------------------------------------------------------\")\n",
        "    print(\"Iteration \",iteration,\" :\")\n",
        "    plt.bar(result.keys(), result.values(),color='b') \n",
        "    plt.ylabel(\"Probability\")\n",
        "    plt.xlabel(\"Items\")  \n",
        "    plt.show()\n",
        "    iteration +=1\n",
        "    print(\"----------------------------------------------------------------------------------------------------------\")\n",
        "\n",
        "\n"
      ],
      "metadata": {
        "id": "qqADliAeYwjT"
      },
      "execution_count": null,
      "outputs": []
    },
    {
      "cell_type": "code",
      "source": [
        "#25.7\n",
        "\n",
        "# from sympy.abc import w\n",
        "N = int(input(\"Enter a value\", ))\n",
        "w = pow(np.e,1j/2)\n",
        "\n",
        "matrix=[] \n",
        "row=[] \n",
        "for i in range(N): #total row is 3\n",
        "    row=[] \n",
        "    for j in range(N): #total column is 3      \n",
        "        row.append((w)** (i*j) )\n",
        "        #  row.append( pow(np.e,1j/N) )\n",
        "    matrix.append(row) #add fully defined column into the row\n",
        "print( matrix )"
      ],
      "metadata": {
        "colab": {
          "base_uri": "https://localhost:8080/"
        },
        "id": "KfZRRFSxCg55",
        "outputId": "825dbcea-08e5-4e1a-d612-799669518d3d"
      },
      "execution_count": null,
      "outputs": [
        {
          "output_type": "stream",
          "name": "stdout",
          "text": [
            "Enter a value9\n",
            "[[(1+0j), (1+0j), (1+0j), (1+0j), (1+0j), (1+0j), (1+0j), (1+0j), (1+0j)], [(1+0j), (0.8775825618903728+0.479425538604203j), (0.5403023058681398+0.8414709848078965j), (0.07073720166770298+0.9974949866040546j), (-0.4161468365471423+0.9092974268256818j), (-0.8011436155469337+0.5984721441039567j), (-0.9899924966004455+0.1411200080598674j), (-0.9364566872907966-0.3507832276896198j), (-0.6536436208636122-0.7568024953079282j)], [(1+0j), (0.5403023058681398+0.8414709848078965j), (-0.4161468365471423+0.9092974268256818j), (-0.9899924966004455+0.1411200080598674j), (-0.6536436208636122-0.7568024953079282j), (0.283662185463226-0.9589242746631387j), (0.9601702866503661-0.2794154981989263j), (0.753902254343305+0.656986598718789j), (-0.14550003380861315+0.9893582466233821j)], [(1+0j), (0.07073720166770298+0.9974949866040546j), (-0.9899924966004455+0.1411200080598674j), (-0.21079579943077997-0.9775301176650972j), (0.9601702866503661-0.2794154981989263j), (0.34663531783502627+0.937999976774739j), (-0.911130261884677+0.4121184852417571j), (-0.47553692799599323-0.8796957599716702j), (0.8438539587324921-0.5365729180004357j)], [(1+0j), (-0.4161468365471423+0.9092974268256818j), (-0.6536436208636122-0.7568024953079282j), (0.9601702866503661-0.2794154981989263j), (-0.14550003380861315+0.9893582466233821j), (-0.839071529076453-0.5440211108893696j), (0.8438539587324921-0.5365729180004357j), (0.13673721820783447+0.9906073556948707j), (-0.9576594803233854-0.28790331666506463j)], [(1+0j), (-0.8011436155469337+0.5984721441039567j), (0.283662185463226-0.9589242746631387j), (0.34663531783502627+0.937999976774739j), (-0.839071529076453-0.5440211108893696j), (0.9977982791785811-0.06632189735120136j), (-0.7596879128588212+0.6502878401571178j), (0.21943996321145856-0.9756260054681585j), (0.40808206181339324+0.9129452507276279j)], [(1+0j), (-0.9899924966004455+0.1411200080598674j), (0.9601702866503661-0.2794154981989263j), (-0.911130261884677+0.4121184852417571j), (0.8438539587324921-0.5365729180004357j), (-0.7596879128588212+0.6502878401571178j), (0.6603167082440797-0.7509872467716773j), (-0.5477292602242678+0.8366556385360572j), (0.4241790073369962-0.9055783620066252j)], [(1+0j), (-0.9364566872907966-0.3507832276896198j), (0.753902254343305+0.656986598718789j), (-0.47553692799599323-0.8796957599716702j), (0.13673721820783447+0.9906073556948707j), (0.21943996321145856-0.9756260054681585j), (-0.5477292602242678+0.8366556385360572j), (0.8064094939122545-0.5913575298651259j), (-0.9626058663135673+0.2709057883078707j)], [(1+0j), (-0.6536436208636122-0.7568024953079282j), (-0.14550003380861315+0.9893582466233821j), (0.8438539587324921-0.5365729180004357j), (-0.9576594803233854-0.28790331666506463j), (0.40808206181339324+0.9129452507276279j), (0.4241790073369962-0.9055783620066252j), (-0.9626058663135673+0.2709057883078707j), (0.8342233605065121+0.5514266812416897j)]]\n"
          ]
        }
      ]
    },
    {
      "cell_type": "code",
      "source": [
        "pow(np.e,1j/2)"
      ],
      "metadata": {
        "colab": {
          "base_uri": "https://localhost:8080/"
        },
        "id": "wIJeerMeORIY",
        "outputId": "550001e6-733d-4eba-cdd6-b8c8eaa2652a"
      },
      "execution_count": null,
      "outputs": [
        {
          "output_type": "execute_result",
          "data": {
            "text/plain": [
              "(0.8775825618903728+0.479425538604203j)"
            ]
          },
          "metadata": {},
          "execution_count": 34
        }
      ]
    },
    {
      "cell_type": "code",
      "source": [
        "# Shors simplified algorithm in python but cant handle big prime numbers\n",
        "\n",
        "# gcf is calculated\n",
        "def get_gcf(a, b):\n",
        "    while a != b:\n",
        "        if a > b:\n",
        "            a -= b\n",
        "        elif b > a:\n",
        "            b -= a\n",
        "    return a\n",
        "\n",
        "# I have used below integers as a in our text book we can add any number of numbers\n",
        "\n",
        "# 12 is not suitable a so i have used incrementation to get better a\n",
        "\n",
        "Randomint = [8, 10, 12]\n",
        "\n",
        "for g in Randomint:  \n",
        "  N = 63\n",
        "  done = False\n",
        "  p = 0\n",
        "  p_values = []\n",
        "  while not done:\n",
        "    p += 1\n",
        "    r = g**p % N\n",
        "    if g**p % N == 1:\n",
        "        print(g, p)\n",
        "        p_values.append(p)\n",
        "    if len(p_values) >= 1:\n",
        "        p = p_values[0]\n",
        "        if p_values[0] % 2 != 0:\n",
        "            g += 1\n",
        "            p = 0\n",
        "            p_values = []\n",
        "        else:\n",
        "            x = g**(p/2)+1\n",
        "            y = g**(p/2)-1\n",
        "            a = int(get_gcf(N, x))\n",
        "            b = int(get_gcf(N, y))\n",
        "            if a == 1 or b == 1:\n",
        "                g += 1\n",
        "                p = 0\n",
        "                p_values = []\n",
        "            else:\n",
        "                print(g, p, a, b)\n",
        "                done = True\n",
        "    if p > 500:\n",
        "        g += 1\n",
        "        p = 0\n",
        "        p_values = []\n",
        "\n",
        "  print(a, \"x\", b, \"=\", N)"
      ],
      "metadata": {
        "colab": {
          "base_uri": "https://localhost:8080/"
        },
        "id": "ml5N397N8dka",
        "outputId": "ce240b5a-86bc-47bd-eb44-f8adbffa626f"
      },
      "execution_count": null,
      "outputs": [
        {
          "output_type": "stream",
          "name": "stdout",
          "text": [
            "8 2\n",
            "8 2 9 7\n",
            "9 x 7 = 63\n",
            "10 6\n",
            "10 6 7 9\n",
            "7 x 9 = 63\n",
            "13 6\n",
            "13 6 7 9\n",
            "7 x 9 = 63\n"
          ]
        }
      ]
    }
  ]
}