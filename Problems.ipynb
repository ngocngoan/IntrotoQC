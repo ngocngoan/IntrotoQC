{
  "nbformat": 4,
  "nbformat_minor": 0,
  "metadata": {
    "colab": {
      "provenance": [],
      "authorship_tag": "ABX9TyN9QhEbOfOovagGox2undtI",
      "include_colab_link": true
    },
    "kernelspec": {
      "name": "python3",
      "display_name": "Python 3"
    },
    "language_info": {
      "name": "python"
    }
  },
  "cells": [
    {
      "cell_type": "markdown",
      "metadata": {
        "id": "view-in-github",
        "colab_type": "text"
      },
      "source": [
        "<a href=\"https://colab.research.google.com/github/nithingovindugari/IntrotoQC/blob/main/Problems.ipynb\" target=\"_parent\"><img src=\"https://colab.research.google.com/assets/colab-badge.svg\" alt=\"Open In Colab\"/></a>"
      ]
    },
    {
      "cell_type": "code",
      "execution_count": null,
      "metadata": {
        "id": "ElDlh8l8ymW9",
        "colab": {
          "base_uri": "https://localhost:8080/"
        },
        "outputId": "3b38457a-75b7-40d5-8951-bb3953dde8f9"
      },
      "outputs": [
        {
          "output_type": "stream",
          "name": "stdout",
          "text": [
            "2.732050807568877\n",
            "(2, 1)\n",
            "0j\n",
            "-3j\n",
            "[[2]\n",
            " [1]]\n",
            "[[0.89442719]\n",
            " [0.4472136 ]]\n",
            "[[2.+0.j]\n",
            " [1.+1.j]]\n",
            "[[0.81649658+0.j        ]\n",
            " [0.40824829+0.40824829j]]\n",
            "[[2.12132034]\n",
            " [0.70710678]]\n",
            "[[0.9486833 ]\n",
            " [0.31622777]]\n",
            "[[1]\n",
            " [2]]\n",
            "[[0.4472136 ]\n",
            " [0.89442719]]\n"
          ]
        }
      ],
      "source": [
        "import numpy as np\n",
        "import math\n",
        "import random\n",
        "import matplotlib.pyplot as plt\n",
        "from sklearn.preprocessing import normalize\n",
        "\n",
        "# #problem3\n",
        "v1 = np.array([[np.sqrt(3)],[1]])\n",
        "v2 = np.array([[1],[1]])\n",
        "inner_result = np.vdot(v1,v2)\n",
        "print(inner_result)\n",
        "print(v1.shape)\n",
        "\n",
        "v3 = np.array([[1j],[1]])\n",
        "v4 = np.array([[-1j],[1]])\n",
        "inner_result1 = np.vdot(v3,v4)\n",
        "print(inner_result1)\n",
        "\n",
        "v5 = np.array([[1+2j],[1]])\n",
        "v6 = np.array([[1-1j],[1]])\n",
        "inner_result2 = np.vdot(v5,v6)\n",
        "print(inner_result2)\n",
        "\n",
        "#Problem 4\n",
        "v1 = np.array([[2],[1]])     \n",
        "print(v1)\n",
        "v2 = v1/np.linalg.norm(v1) \n",
        "print(v2)\n",
        "\n",
        "v3 = np.array([[2],[1+1j]])     \n",
        "print(v3)\n",
        "v4 = v3/np.linalg.norm(v3) \n",
        "print(v4)\n",
        "\n",
        "\n",
        "#Problem 5.2\n",
        "v1 = np.array([[3/np.sqrt(2)],[1/np.sqrt(2)]])     \n",
        "print(v1)\n",
        "v2 = v1/np.linalg.norm(v1) \n",
        "print(v2)\n",
        "\n",
        "# Problem 5.4\n",
        "v3 = np.array([[1] , [(2 )]])     \n",
        "print(v3)\n",
        "v4 = v3/np.linalg.norm(v3) \n",
        "print(v4)"
      ]
    },
    {
      "cell_type": "code",
      "source": [
        "#Lecture_6-Problems\n",
        "sigmay = np.array([[0, -1j],[1j,0]])\n",
        "print(sigmay)\n",
        "eigenvalues,eigenvectors = np.linalg.eig(sigmay)\n",
        "print(eigenvalues)\n",
        "print(eigenvectors)\n"
      ],
      "metadata": {
        "id": "f3iS0omOz3Y7",
        "colab": {
          "base_uri": "https://localhost:8080/"
        },
        "outputId": "d1c61a06-4811-46ea-ec77-8e2d8ab5d356"
      },
      "execution_count": null,
      "outputs": [
        {
          "output_type": "stream",
          "name": "stdout",
          "text": [
            "[[ 0.+0.j -0.-1.j]\n",
            " [ 0.+1.j  0.+0.j]]\n",
            "[ 1.+0.j -1.+0.j]\n",
            "[[-0.        -0.70710678j  0.70710678+0.j        ]\n",
            " [ 0.70710678+0.j          0.        -0.70710678j]]\n"
          ]
        }
      ]
    },
    {
      "cell_type": "code",
      "source": [
        "#Lecture_7-Problems\n",
        "#7.1\n",
        "sigmay=np.array([[0,-1j],[1j,0]])\n",
        "print(sigmay)\n",
        "print(np.matmul(sigmay, sigmay))\n",
        "\n",
        "#7.2\n",
        "sigmaz=np.array([[1,0],[0,-1]])\n",
        "print(sigmaz)\n",
        "print(np.matmul(sigmaz, sigmaz))\n",
        "\n",
        "#7.3\n",
        "\n",
        "sigmayh = np.conjugate(np.transpose(sigmay))\n",
        "print(sigmayh)\n",
        "\n",
        "#7.4\n",
        "zerospin=np.array([[1],[0]])\n",
        "print(zerospin.shape)\n",
        "print(np.dot(sigmay,zerospin))"
      ],
      "metadata": {
        "id": "ThP4E2LluAKH",
        "colab": {
          "base_uri": "https://localhost:8080/"
        },
        "outputId": "47099348-ff8a-4597-90e1-1c51bbbe9e2d"
      },
      "execution_count": null,
      "outputs": [
        {
          "output_type": "stream",
          "name": "stdout",
          "text": [
            "[[ 0.+0.j -0.-1.j]\n",
            " [ 0.+1.j  0.+0.j]]\n",
            "[[1.+0.j 0.+0.j]\n",
            " [0.+0.j 1.+0.j]]\n",
            "[[ 1  0]\n",
            " [ 0 -1]]\n",
            "[[1 0]\n",
            " [0 1]]\n",
            "[[ 0.-0.j  0.-1.j]\n",
            " [-0.+1.j  0.-0.j]]\n",
            "(2, 1)\n",
            "[[0.+0.j]\n",
            " [0.+1.j]]\n"
          ]
        }
      ]
    },
    {
      "cell_type": "code",
      "source": [],
      "metadata": {
        "id": "mLhEQAbB5ne6"
      },
      "execution_count": null,
      "outputs": []
    },
    {
      "cell_type": "code",
      "source": [
        "#Lecture_8-Problems\n",
        "\n",
        "import numpy as np\n",
        "sigmax=np.array([[0,1],[1,0]])\n",
        "print(sigmax)\n",
        "eigenvalues, eigenvectors=np.linalg.eig(sigmax)\n",
        "print(eigenvalues)\n",
        "print(eigenvectors)\n",
        "\n",
        "#8.4\n",
        "sigmaxp=np.array([1/np.sqrt(2),1/np.sqrt(2)])\n",
        "sigmaxn=np.array([1/np.sqrt(2),-1/np.sqrt(2)])\n",
        "eigenvalues, eigenvectors=np.linalg.eig(sigmax)\n",
        "print(eigenvalues)\n",
        "print(eigenvectors)\n",
        "print(np.dot(sigmaxp,sigmaxp))\n",
        "print(np.dot(sigmaxn,sigmaxn))\n",
        "\n",
        "\n",
        "\n"
      ],
      "metadata": {
        "colab": {
          "base_uri": "https://localhost:8080/"
        },
        "id": "17QGbeH7hpe2",
        "outputId": "d3b33c67-784e-4ef8-f662-f757c4a201f3"
      },
      "execution_count": null,
      "outputs": [
        {
          "output_type": "stream",
          "name": "stdout",
          "text": [
            "[[0 1]\n",
            " [1 0]]\n",
            "[ 1. -1.]\n",
            "[[ 0.70710678 -0.70710678]\n",
            " [ 0.70710678  0.70710678]]\n",
            "[ 1. -1.]\n",
            "[[ 0.70710678 -0.70710678]\n",
            " [ 0.70710678  0.70710678]]\n",
            "0.9999999999999998\n",
            "0.9999999999999998\n"
          ]
        }
      ]
    },
    {
      "cell_type": "code",
      "source": [
        "#Lecture_9-Problems\n",
        "#9.3\n",
        "# M=np.array([[1,0],[0,-1]])\n",
        "sigmax=np.array([[0,1],[1,0]])\n",
        "sigmay=np.array([[0,-1j],[1j,0]])\n",
        "sigmaz=np.array([[1,0],[0,-1]])\n",
        "\n",
        "\n",
        "\n",
        "print(np.linalg.det(sigmax))\n",
        "print(np.linalg.det(sigmay))\n",
        "print(np.linalg.det(sigmaz))\n",
        "\n"
      ],
      "metadata": {
        "colab": {
          "base_uri": "https://localhost:8080/"
        },
        "id": "Hu0tetGHjoo9",
        "outputId": "2e502f02-602a-4007-bca6-7ca860250a50"
      },
      "execution_count": null,
      "outputs": [
        {
          "output_type": "stream",
          "name": "stdout",
          "text": [
            "-1.0\n",
            "(-1+0j)\n",
            "-1.0\n"
          ]
        }
      ]
    },
    {
      "cell_type": "code",
      "source": [
        "#Lecture_10-Problems\n",
        "\n",
        "#10.4\n",
        "\n",
        "import numpy as np\n",
        "sigmaxn=np.array([1/np.sqrt(2),-1])\n",
        "sigmaxp=np.array([1/np.sqrt(2),1])\n",
        "sigmayp=np.array([1/np.sqrt(2),+1j])\n",
        "sigmayn=np.array([1/np.sqrt(2),-1j])\n",
        "\n",
        "print(np.matmul(sigmaxn, sigmayn))\n",
        "print(np.matmul(sigmaxn, sigmayp))\n",
        "print(np.matmul(sigmaxp, sigmayn))\n",
        "print(np.matmul(sigmaxp, sigmayp))\n"
      ],
      "metadata": {
        "colab": {
          "base_uri": "https://localhost:8080/"
        },
        "id": "kBnweUTpBiZp",
        "outputId": "3015b455-2417-4a20-fedc-56be14e77f10"
      },
      "execution_count": null,
      "outputs": [
        {
          "output_type": "stream",
          "name": "stdout",
          "text": [
            "(0.4999999999999999+1j)\n",
            "(0.4999999999999999-1j)\n",
            "(0.4999999999999999-1j)\n",
            "(0.4999999999999999+1j)\n"
          ]
        }
      ]
    },
    {
      "cell_type": "code",
      "source": [
        "#Lecture_11-Problems\n",
        "#11.3\n",
        "import numpy as np\n",
        "g=np.array([[0],[1]])\n",
        "h=np.array([[1/np.sqrt(2)],[1j/np.sqrt(2)]])\n",
        "print(np.kron(g,h))\n",
        "print(np.kron(h,g))"
      ],
      "metadata": {
        "colab": {
          "base_uri": "https://localhost:8080/"
        },
        "id": "RmW484zzk5ux",
        "outputId": "10072cde-723e-42d6-eb5d-544cee7ebecf"
      },
      "execution_count": null,
      "outputs": [
        {
          "output_type": "stream",
          "name": "stdout",
          "text": [
            "[[0.        +0.j        ]\n",
            " [0.        +0.j        ]\n",
            " [0.70710678+0.j        ]\n",
            " [0.        +0.70710678j]]\n",
            "[[0.        +0.j        ]\n",
            " [0.70710678+0.j        ]\n",
            " [0.        +0.j        ]\n",
            " [0.        +0.70710678j]]\n"
          ]
        }
      ]
    },
    {
      "cell_type": "code",
      "source": [
        "#Lecture_12-Problems\n",
        "\n",
        "import numpy as np\n",
        "g=np.array([[1],[0]])\n",
        "h=np.array([[1j/np.sqrt(2)],[1/np.sqrt(2)]])\n",
        "print(np.kron(g,h))\n",
        "print(np.kron(h,g))\n",
        "\n"
      ],
      "metadata": {
        "colab": {
          "base_uri": "https://localhost:8080/"
        },
        "id": "ZGZVGzUcgkdO",
        "outputId": "d783c6b7-caad-44f1-d2b4-f75c1e5bd00f"
      },
      "execution_count": null,
      "outputs": [
        {
          "output_type": "stream",
          "name": "stdout",
          "text": [
            "[[0.        +0.70710678j]\n",
            " [0.70710678+0.j        ]\n",
            " [0.        +0.j        ]\n",
            " [0.        +0.j        ]]\n",
            "[[0.        +0.70710678j]\n",
            " [0.        +0.j        ]\n",
            " [0.70710678+0.j        ]\n",
            " [0.        +0.j        ]]\n"
          ]
        }
      ]
    },
    {
      "cell_type": "code",
      "source": [
        "\n",
        "#Chapter 15\n",
        "\n",
        "#15.1\n",
        "sigmay=np.array([[0,1],[1,0]])   #Not gate and transpose is same for this matrix\n",
        "print(sigmay)\n",
        "print(np.matmul(sigmay, sigmay))\n",
        "\n",
        "#15.2\n",
        "sigmac=np.array([[1,0,0,0],[0,1,0,0],[0,0,0,1],[0,0,1,0]])   #CNot gate and transpose is same for this matrix\n",
        "print(sigmac)\n",
        "print(np.matmul(sigmac, sigmac))"
      ],
      "metadata": {
        "colab": {
          "base_uri": "https://localhost:8080/"
        },
        "id": "Gr_Yji8bEtvt",
        "outputId": "ecdca83a-b803-4827-9f07-0f33d3d33452"
      },
      "execution_count": null,
      "outputs": [
        {
          "output_type": "stream",
          "name": "stdout",
          "text": [
            "[[0 1]\n",
            " [1 0]]\n",
            "[[1 0]\n",
            " [0 1]]\n",
            "[[1 0 0 0]\n",
            " [0 1 0 0]\n",
            " [0 0 0 1]\n",
            " [0 0 1 0]]\n",
            "[[1 0 0 0]\n",
            " [0 1 0 0]\n",
            " [0 0 1 0]\n",
            " [0 0 0 1]]\n"
          ]
        }
      ]
    },
    {
      "cell_type": "code",
      "source": [
        "\n",
        "#24.5\n",
        "#Keywords\n",
        "#superposition is sup_pos\n",
        "#amplitude  is amp\n",
        "\n",
        "#Grovers Algorithm is implemented using standard procedure.\n",
        "#Steps followed in books are implemented and tried to create classical grovers algorithm in different style\n",
        "\n",
        "plots = []\n",
        "\n",
        "# Putting all qubits in superposition using hadamard gate\n",
        "def  sup_pos(qubits):\n",
        "    states = []\n",
        "    total_states = int(math.pow(2,qubits))\n",
        "    amp = 1/math.sqrt(total_states)  \n",
        "    for _ in range(0,total_states):\n",
        "        states.append(amp)\n",
        "    return states\n",
        "\n",
        "# phase flip inverts the states amplitude\n",
        "def grover_diffusion(states):\n",
        "    average = sum(states)/len(states)\n",
        "    for i in range(0,len(states)):\n",
        "        states[i] = (average-states[i]) + average         #inversion about mean\n",
        "    return states\n",
        "\n",
        "#oracle to implement phase inversion\n",
        "def oracle(states,datalist,key):\n",
        "    for i in range(0,int(len(datalist))):\n",
        "        if datalist[i] == key:\n",
        "            states[i] *= -1                    #phase inversion\n",
        "    return states\n",
        "\n",
        "\n",
        "\n",
        "#classical main grover search function \n",
        "def grover_search(qubits,datalist,key):\n",
        "    states = sup_pos(qubits)\n",
        "    num_iterations  = math.ceil(math.sqrt(math.pow(2,qubits)))        #iterations\n",
        "    probability_states = []\n",
        "    for _ in range(0,num_iterations):\n",
        "        states = oracle(states,datalist,key)\n",
        "        states = grover_diffusion(states)\n",
        "        probability_states = [states[i]*states[i] for i in range(0,len(states))]\n",
        "        plots.append(probability_states)\n",
        "    return probability_states\n",
        "\n",
        "\n",
        "def grover(datalist,key):\n",
        "    size_datalist = len(datalist)\n",
        "    qubits_needed = math.ceil(math.log(size_datalist,2))\n",
        "    paddings_required = int(math.pow(2,qubits_needed) - size_datalist)\n",
        "    #required if the number of data items is not a power of 2.\n",
        "    for _ in range(0,paddings_required):\n",
        "         datalist.append(0)\n",
        "    grover_search(qubits_needed,datalist,key)\n",
        "    \n",
        "datalist = random.sample(range(1, 100), 64)\n",
        "grover(datalist,32)\n",
        "print(datalist)\n",
        "print(\"plots showing the change in probabilities of items after every grover's iteration :\")\n",
        "result ={}\n",
        "iteration = 1\n",
        "for plot in plots:\n",
        "    for i in range(len(plot)):\n",
        "        result[datalist[i]] = plot[i]\n",
        "    print(\"----------------------------------------------------------------------------------------------------------\")\n",
        "    print(\"Iteration \",iteration,\" :\")\n",
        "    plt.bar(result.keys(), result.values(),color='b') \n",
        "    plt.ylabel(\"Probability\")\n",
        "    plt.xlabel(\"Items\")  \n",
        "    plt.show()\n",
        "    iteration +=1\n",
        "    print(\"----------------------------------------------------------------------------------------------------------\")\n",
        "\n",
        "\n"
      ],
      "metadata": {
        "id": "qqADliAeYwjT",
        "colab": {
          "base_uri": "https://localhost:8080/",
          "height": 1000
        },
        "outputId": "99cbe257-c36c-4d10-fa02-d8b8000ce793"
      },
      "execution_count": null,
      "outputs": [
        {
          "output_type": "stream",
          "name": "stdout",
          "text": [
            "[47, 9, 31, 58, 49, 76, 27, 89, 81, 34, 29, 15, 33, 86, 21, 92, 40, 78, 8, 50, 99, 51, 14, 80, 90, 62, 26, 72, 3, 71, 37, 28, 32, 45, 2, 61, 66, 84, 48, 35, 63, 87, 74, 79, 67, 60, 19, 39, 83, 16, 95, 59, 13, 73, 64, 12, 38, 57, 46, 69, 94, 17, 20, 22]\n",
            "plots showing the change in probabilities of items after every grover's iteration :\n",
            "----------------------------------------------------------------------------------------------------------\n",
            "Iteration  1  :\n"
          ]
        },
        {
          "output_type": "display_data",
          "data": {
            "text/plain": [
              "<Figure size 432x288 with 1 Axes>"
            ],
            "image/png": "[encoded data removed]"
          },
          "metadata": {
            "needs_background": "light"
          }
        },
        {
          "output_type": "stream",
          "name": "stdout",
          "text": [
            "----------------------------------------------------------------------------------------------------------\n",
            "----------------------------------------------------------------------------------------------------------\n",
            "Iteration  2  :\n"
          ]
        },
        {
          "output_type": "display_data",
          "data": {
            "text/plain": [
              "<Figure size 432x288 with 1 Axes>"
            ],
            "image/png": "[encoded data removed]"
          },
          "metadata": {
            "needs_background": "light"
          }
        },
        {
          "output_type": "stream",
          "name": "stdout",
          "text": [
            "----------------------------------------------------------------------------------------------------------\n",
            "----------------------------------------------------------------------------------------------------------\n",
            "Iteration  3  :\n"
          ]
        },
        {
          "output_type": "display_data",
          "data": {
            "text/plain": [
              "<Figure size 432x288 with 1 Axes>"
            ],
            "image/png": "[encoded data removed]"
          },
          "metadata": {
            "needs_background": "light"
          }
        },
        {
          "output_type": "stream",
          "name": "stdout",
          "text": [
            "----------------------------------------------------------------------------------------------------------\n",
            "----------------------------------------------------------------------------------------------------------\n",
            "Iteration  4  :\n"
          ]
        },
        {
          "output_type": "display_data",
          "data": {
            "text/plain": [
              "<Figure size 432x288 with 1 Axes>"
            ],
            "image/png": "[encoded data removed]"
          },
          "metadata": {
            "needs_background": "light"
          }
        },
        {
          "output_type": "stream",
          "name": "stdout",
          "text": [
            "----------------------------------------------------------------------------------------------------------\n",
            "----------------------------------------------------------------------------------------------------------\n",
            "Iteration  5  :\n"
          ]
        },
        {
          "output_type": "display_data",
          "data": {
            "text/plain": [
              "<Figure size 432x288 with 1 Axes>"
            ],
            "image/png": "[encoded data removed]"
          },
          "metadata": {
            "needs_background": "light"
          }
        },
        {
          "output_type": "stream",
          "name": "stdout",
          "text": [
            "----------------------------------------------------------------------------------------------------------\n",
            "----------------------------------------------------------------------------------------------------------\n",
            "Iteration  6  :\n"
          ]
        },
        {
          "output_type": "display_data",
          "data": {
            "text/plain": [
              "<Figure size 432x288 with 1 Axes>"
            ],
            "image/png": "[encoded data removed]"
          },
          "metadata": {
            "needs_background": "light"
          }
        },
        {
          "output_type": "stream",
          "name": "stdout",
          "text": [
            "----------------------------------------------------------------------------------------------------------\n",
            "----------------------------------------------------------------------------------------------------------\n",
            "Iteration  7  :\n"
          ]
        },
        {
          "output_type": "display_data",
          "data": {
            "text/plain": [
              "<Figure size 432x288 with 1 Axes>"
            ],
            "image/png": "[encoded data removed]"
          },
          "metadata": {
            "needs_background": "light"
          }
        },
        {
          "output_type": "stream",
          "name": "stdout",
          "text": [
            "----------------------------------------------------------------------------------------------------------\n",
            "----------------------------------------------------------------------------------------------------------\n",
            "Iteration  8  :\n"
          ]
        },
        {
          "output_type": "display_data",
          "data": {
            "text/plain": [
              "<Figure size 432x288 with 1 Axes>"
            ],
            "image/png": "[encoded data removed]"
          },
          "metadata": {
            "needs_background": "light"
          }
        },
        {
          "output_type": "stream",
          "name": "stdout",
          "text": [
            "----------------------------------------------------------------------------------------------------------\n"
          ]
        }
      ]
    },
    {
      "cell_type": "code",
      "source": [
        "# Shors simplified algorithm in python but cant handle big prime numbers\n",
        "\n",
        "# gcf is calculated\n",
        "def get_gcf(a, b):\n",
        "    while a != b:\n",
        "        if a > b:\n",
        "            a -= b\n",
        "        elif b > a:\n",
        "            b -= a\n",
        "    return a\n",
        "\n",
        "# I have used below integers as a in our text book we can add any number of numbers\n",
        "\n",
        "# 12 is not suitable a so i have used incrementation to get better a\n",
        "\n",
        "Randomint = [8, 10, 12]\n",
        "\n",
        "for g in Randomint:  \n",
        "  N = 63\n",
        "  done = False\n",
        "  p = 0\n",
        "  p_values = []\n",
        "  while not done:\n",
        "    p += 1\n",
        "    r = g**p % N\n",
        "    if g**p % N == 1:\n",
        "        print(g, p)\n",
        "        p_values.append(p)\n",
        "    if len(p_values) >= 1:\n",
        "        p = p_values[0]\n",
        "        if p_values[0] % 2 != 0:\n",
        "            g += 1\n",
        "            p = 0\n",
        "            p_values = []\n",
        "        else:\n",
        "            x = g**(p/2)+1\n",
        "            y = g**(p/2)-1\n",
        "            a = int(get_gcf(N, x))\n",
        "            b = int(get_gcf(N, y))\n",
        "            if a == 1 or b == 1:\n",
        "                g += 1\n",
        "                p = 0\n",
        "                p_values = []\n",
        "            else:\n",
        "                print(g, p, a, b)\n",
        "                done = True\n",
        "    if p > 500:\n",
        "        g += 1\n",
        "        p = 0\n",
        "        p_values = []\n",
        "\n",
        "  print(a, \"x\", b, \"=\", N)"
      ],
      "metadata": {
        "colab": {
          "base_uri": "https://localhost:8080/"
        },
        "id": "ml5N397N8dka",
        "outputId": "ce240b5a-86bc-47bd-eb44-f8adbffa626f"
      },
      "execution_count": null,
      "outputs": [
        {
          "output_type": "stream",
          "name": "stdout",
          "text": [
            "8 2\n",
            "8 2 9 7\n",
            "9 x 7 = 63\n",
            "10 6\n",
            "10 6 7 9\n",
            "7 x 9 = 63\n",
            "13 6\n",
            "13 6 7 9\n",
            "7 x 9 = 63\n"
          ]
        }
      ]
    }
  ]
}